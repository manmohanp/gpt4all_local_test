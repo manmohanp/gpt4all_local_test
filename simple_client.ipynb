{
 "cells": [
  {
   "cell_type": "code",
   "execution_count": null,
   "id": "b8db772d-7271-4f27-acbd-a9d7e5b1702a",
   "metadata": {},
   "outputs": [],
   "source": [
    "import requests\n",
    "\n",
    "def create_session():\n",
    "    s = requests.Session()\n",
    "    s.headers.update({\n",
    "        \"Content-Type\" : \"application/json\",\n",
    "    })\n",
    "    def api_calls(r, *args, **kwargs):\n",
    "        # h = r.headers['Content-Type']\n",
    "        # print(h)\n",
    "\n",
    "        s.hooks[\"response\"] = api_calls\n",
    "    return s\n",
    "\n",
    "def main():\n",
    "    sess = create_session()\n",
    "    url = 'http://localhost:4891/v1/completions'\n",
    "    prompt = \"Compose a poem that explains the concept of recursion in programming.\"\n",
    "    \n",
    "    reqbody = { \"model\": \"mistral-7b-openorca\", \"prompt\": prompt, \"max_tokens\": 2000, \"temperature\": 0.7 }\n",
    "    resp = sess.post(url, json = reqbody)\n",
    "    \n",
    "    # print(resp.headers)\n",
    "    if resp and resp.status_code == 200:\n",
    "        data = resp.json()\n",
    "        print(data[\"choices\"][0][\"text\"])\n",
    "    else:\n",
    "        print(resp)\n",
    "\n",
    "if __name__ == '__main__':\n",
    "    main()"
   ]
  },
  {
   "cell_type": "code",
   "execution_count": null,
   "id": "c7ddbc17-af1f-4e40-9929-c20711a2b8f6",
   "metadata": {},
   "outputs": [],
   "source": []
  }
 ],
 "metadata": {
  "kernelspec": {
   "display_name": "Python 3 (ipykernel)",
   "language": "python",
   "name": "python3"
  },
  "language_info": {
   "codemirror_mode": {
    "name": "ipython",
    "version": 3
   },
   "file_extension": ".py",
   "mimetype": "text/x-python",
   "name": "python",
   "nbconvert_exporter": "python",
   "pygments_lexer": "ipython3",
   "version": "3.11.6"
  }
 },
 "nbformat": 4,
 "nbformat_minor": 5
}
